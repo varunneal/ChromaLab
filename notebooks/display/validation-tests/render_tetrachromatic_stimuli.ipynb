{
 "cells": [
  {
   "cell_type": "code",
   "execution_count": 1,
   "metadata": {},
   "outputs": [],
   "source": [
    "import numpy as np\n",
    "import tetrapolyscope as ps\n",
    "import matplotlib.pyplot as plt"
   ]
  },
  {
   "cell_type": "code",
   "execution_count": 2,
   "metadata": {},
   "outputs": [],
   "source": [
    "from chromalab.draw import IshiharaPlate, configurePolyscopeFor2D, configurePolyscopeForEvenOdd\n",
    "from chromalab.observer import Observer, getSampledHyperCube\n",
    "from chromalab.spectra import Illuminant\n",
    "from chromalab.inks import get_metamer_buckets\n",
    "from chromalab.maxbasis import MaxBasis\n",
    "from chromalab.maxdisplaybasis import TetraDisplayGamut\n",
    "from chromalab.cubemap import CubeMap"
   ]
  },
  {
   "cell_type": "code",
   "execution_count": 3,
   "metadata": {},
   "outputs": [],
   "source": [
    "%load_ext autoreload\n",
    "%autoreload 2\n",
    "%matplotlib ipympl"
   ]
  },
  {
   "cell_type": "code",
   "execution_count": 4,
   "metadata": {},
   "outputs": [
    {
     "name": "stderr",
     "output_type": "stream",
     "text": [
      "100%|██████████| 57/57 [00:03<00:00, 17.36it/s]\n"
     ]
    }
   ],
   "source": [
    "wavelengths = np.arange(400, 700, 5)\n",
    "d65 = Illuminant.get(\"D65\")\n",
    "\n",
    "tetrachromat = Observer.tetrachromat(wavelengths=wavelengths, verbose=True)\n",
    "maxbasis  = MaxBasis(tetrachromat, verbose=True)\n"
   ]
  },
  {
   "cell_type": "code",
   "execution_count": 5,
   "metadata": {},
   "outputs": [],
   "source": [
    "hypercube = getSampledHyperCube(0.019 , 4)"
   ]
  },
  {
   "cell_type": "code",
   "execution_count": 6,
   "metadata": {},
   "outputs": [],
   "source": [
    "mdb = TetraDisplayGamut.loadTutenLabDisplay(tetrachromat, led_indices=[0, 3, 4, 5]) # R O C V\n",
    "mdb.factor = 10000\n",
    "intensities = mdb.primary_intensities.T * mdb.factor # columns are the ratios, also 10000 is the factor in order to get the get buckets function to work"
   ]
  },
  {
   "cell_type": "code",
   "execution_count": 7,
   "metadata": {},
   "outputs": [],
   "source": [
    "all_lms_intensities = (intensities@hypercube.T).T # multiply all possible led combinations with the intensities\n",
    "# buckets = get_metamer_buckets(all_lms_intensities, axis=2)"
   ]
  },
  {
   "cell_type": "code",
   "execution_count": 18,
   "metadata": {},
   "outputs": [],
   "source": [
    "cubemap = CubeMap(all_lms_intensities, maxbasis, rgbs=np.zeros_like(all_lms_intensities), verbose=True)\n",
    "cubemap.display_cubemap_RGBOCV(0.8, 0.4, 9, mdb)\n",
    "# cubemap.display_(0.8, 0.4, 5) # lum val, sat val, grid"
   ]
  },
  {
   "cell_type": "code",
   "execution_count": 11,
   "metadata": {},
   "outputs": [],
   "source": [
    "dist, (metamer_1, metamer_2) = buckets[0]"
   ]
  },
  {
   "cell_type": "code",
   "execution_count": 12,
   "metadata": {},
   "outputs": [],
   "source": [
    "weights_4tup = mdb.convertActivationsToIntensities(np.array([np.array(metamer_1)/mdb.factor, np.array(metamer_2)/mdb.factor]).T)\n",
    "# insert 0 for G and B channels\n",
    "weights = np.insert(arr=weights_4tup, obj=[1,1], values=0, axis=1)"
   ]
  },
  {
   "cell_type": "code",
   "execution_count": null,
   "metadata": {},
   "outputs": [],
   "source": [
    "print((mdb.primary_intensities.T@weights_4tup.T).T) # checking if they are metamers again after being transformed back to weights!!"
   ]
  },
  {
   "cell_type": "code",
   "execution_count": 14,
   "metadata": {},
   "outputs": [],
   "source": [
    "ip = IshiharaPlate(weights[0], weights[1], 89, noise=50, image_size=912)"
   ]
  },
  {
   "cell_type": "code",
   "execution_count": 15,
   "metadata": {},
   "outputs": [],
   "source": [
    "ip.generate_plate()"
   ]
  },
  {
   "cell_type": "code",
   "execution_count": 16,
   "metadata": {},
   "outputs": [],
   "source": [
    "ip.export_even_odd_plate(\"metamer_pair_\")"
   ]
  },
  {
   "cell_type": "code",
   "execution_count": 17,
   "metadata": {},
   "outputs": [],
   "source": [
    "# while True:\n",
    "#     ps.full_frame_tick()"
   ]
  }
 ],
 "metadata": {
  "kernelspec": {
   "display_name": "chromalab",
   "language": "python",
   "name": "python3"
  },
  "language_info": {
   "codemirror_mode": {
    "name": "ipython",
    "version": 3
   },
   "file_extension": ".py",
   "mimetype": "text/x-python",
   "name": "python",
   "nbconvert_exporter": "python",
   "pygments_lexer": "ipython3",
   "version": "3.11.9"
  }
 },
 "nbformat": 4,
 "nbformat_minor": 2
}
