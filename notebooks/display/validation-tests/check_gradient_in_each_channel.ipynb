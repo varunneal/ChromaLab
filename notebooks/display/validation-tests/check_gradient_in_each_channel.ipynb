{
 "cells": [
  {
   "cell_type": "code",
   "execution_count": 2,
   "metadata": {},
   "outputs": [],
   "source": [
    "import numpy as np\n",
    "import tetrapolyscope as ps\n",
    "\n",
    "from chromalab.draw import *"
   ]
  },
  {
   "cell_type": "code",
   "execution_count": 3,
   "metadata": {},
   "outputs": [],
   "source": [
    "%load_ext autoreload\n",
    "%autoreload 2\n",
    "%matplotlib ipympl"
   ]
  },
  {
   "cell_type": "code",
   "execution_count": null,
   "metadata": {},
   "outputs": [],
   "source": [
    "ps.init()\n",
    "# 60, 97.5 for absolute clock w/polyscope show\n",
    "# 60, 80 for while busy loop\n",
    "configurePolyscopeForEvenOdd(fps=60, target_sleep=80, vsync=True)\n",
    "im_h, im_w = 912, 1140\n",
    "configurePolyscopeFor2D(im_w, im_h)"
   ]
  },
  {
   "cell_type": "code",
   "execution_count": 4,
   "metadata": {},
   "outputs": [],
   "source": [
    "# ps.set_render_even_odd_absolute_clock(True)"
   ]
  },
  {
   "cell_type": "code",
   "execution_count": 5,
   "metadata": {},
   "outputs": [],
   "source": [
    "# positions, max_side_length = get_auto_sized_grid([0, 0], im_h, im_w, 3, 2, padding_percentage=0.05)\n",
    "# colors = np.eye(6)\n",
    "\n",
    "# draw individual squares\n",
    "# for i, (p, c) in enumerate(zip(positions, colors)):\n",
    "#     vertex_colors = np.zeros((4, colors.shape[1]))\n",
    "#     vertex_colors[2] = c * 0.5\n",
    "#     vertex_colors[3] = c\n",
    "#     vertex_colors[0] = c * 0.5\n",
    "#     draw_vertex_defined_square(p[0], p[1], max_side_length * 0.8, vertex_colors, i + 4)"
   ]
  },
  {
   "cell_type": "code",
   "execution_count": 5,
   "metadata": {},
   "outputs": [],
   "source": [
    "positions, max_side_length = get_auto_sized_grid([0, 0], im_h, im_w, 6, 1, padding_percentage=0.05)\n",
    "colors = np.array([[1, 0, 0, 0, 0, 0], [0, 1, 0, 0, 0, 0], [0, 0, 1, 0, 0, 0], [0, 0, 0, 1, 0, 0], [0, 0, 0, 0, 1, 0], [0, 0, 0, 0, 0, 1]])\n",
    "\n",
    "# draw rectangular gradients up and down\n",
    "for i, (p, c) in enumerate(zip(positions, colors)):\n",
    "    vertex_colors = np.zeros((4, colors.shape[1]))\n",
    "    vertex_colors[3] = c\n",
    "    vertex_colors[0] = c\n",
    "    # draw_vertex_defined_square(p[0], p[1], max_side_length * 0.8, vertex_colors, i + 4)\n",
    "    draw_rectangle(p[0], p[1], max_side_length * 0.8, im_h * 0.8, vertex_colors, i)\n",
    "    "
   ]
  },
  {
   "cell_type": "code",
   "execution_count": 7,
   "metadata": {},
   "outputs": [],
   "source": [
    "while True:\n",
    "    ps.full_frame_tick()\n",
    "# ps.show()"
   ]
  },
  {
   "cell_type": "code",
   "execution_count": null,
   "metadata": {},
   "outputs": [],
   "source": []
  }
 ],
 "metadata": {
  "kernelspec": {
   "display_name": "chromalab",
   "language": "python",
   "name": "python3"
  },
  "language_info": {
   "codemirror_mode": {
    "name": "ipython",
    "version": 3
   },
   "file_extension": ".py",
   "mimetype": "text/x-python",
   "name": "python",
   "nbconvert_exporter": "python",
   "pygments_lexer": "ipython3",
   "version": "3.11.9"
  }
 },
 "nbformat": 4,
 "nbformat_minor": 2
}
