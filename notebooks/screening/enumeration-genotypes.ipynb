{
 "cells": [
  {
   "cell_type": "code",
   "execution_count": 1,
   "metadata": {},
   "outputs": [],
   "source": [
    "import numpy as np\n",
    "\n",
    "# Enable pretty printing\n",
    "np.set_printoptions(precision=3, suppress=True)"
   ]
  },
  {
   "cell_type": "code",
   "execution_count": 2,
   "metadata": {},
   "outputs": [],
   "source": [
    "from chromalab.screening import ScreeningTest\n",
    "from chromalab.observer import Observer, Cone, getSampledHyperCube"
   ]
  },
  {
   "cell_type": "code",
   "execution_count": 3,
   "metadata": {},
   "outputs": [],
   "source": [
    "%load_ext autoreload\n",
    "%autoreload 2\n",
    "%matplotlib ipympl"
   ]
  },
  {
   "cell_type": "code",
   "execution_count": 4,
   "metadata": {},
   "outputs": [],
   "source": [
    "wavelengths = np.arange(400, 700, 1)\n",
    "MandLPeaks = np.array([(530, 559), (530, 555), (533, 559), (533, 555)])\n",
    "observers = [Observer.tetrachromat(wavelengths), Observer.neitz_tetrachromat(wavelengths), Observer.govardovskii_tetrachromat(wavelengths)]"
   ]
  },
  {
   "cell_type": "code",
   "execution_count": 5,
   "metadata": {},
   "outputs": [],
   "source": [
    "all_steps = np.arange(0, 256)/255"
   ]
  },
  {
   "cell_type": "code",
   "execution_count": 8,
   "metadata": {},
   "outputs": [
    {
     "name": "stdout",
     "output_type": "stream",
     "text": [
      "Generating hypercube\n",
      "Done generating hypercube\n"
     ]
    },
    {
     "name": "stderr",
     "output_type": "stream",
     "text": [
      " 25%|██▌       | 1/4 [00:09<00:27,  9.13s/it]"
     ]
    },
    {
     "name": "stdout",
     "output_type": "stream",
     "text": [
      "Finetuned Metamers\n",
      " [[ 0.132  0.19   0.188  0.183]\n",
      " [ 0.132  0.19   0.189  0.183]]\n",
      "LED Weights\n",
      " [[ 0.676  0.895  0.978  0.915]\n",
      " [ 0.726  0.883  0.915  0.958]]\n"
     ]
    },
    {
     "name": "stderr",
     "output_type": "stream",
     "text": [
      " 50%|█████     | 2/4 [00:17<00:17,  8.94s/it]"
     ]
    },
    {
     "name": "stdout",
     "output_type": "stream",
     "text": [
      "Finetuned Metamers\n",
      " [[ 0.129  0.199  0.194  0.189]\n",
      " [ 0.129  0.199  0.195  0.189]]\n",
      "LED Weights\n",
      " [[ 0.923  0.778  0.868  0.95 ]\n",
      " [ 0.969  0.766  0.813  0.99 ]]\n"
     ]
    },
    {
     "name": "stderr",
     "output_type": "stream",
     "text": [
      " 75%|███████▌  | 3/4 [00:26<00:08,  8.92s/it]"
     ]
    },
    {
     "name": "stdout",
     "output_type": "stream",
     "text": [
      "Finetuned Metamers\n",
      " [[ 0.132  0.149  0.138  0.129]\n",
      " [ 0.132  0.149  0.139  0.129]]\n",
      "LED Weights\n",
      " [[ 0.609  0.432  0.934  0.958]\n",
      " [ 0.655  0.42   0.88   0.998]]\n"
     ]
    },
    {
     "name": "stderr",
     "output_type": "stream",
     "text": [
      "100%|██████████| 4/4 [00:35<00:00,  8.94s/it]"
     ]
    },
    {
     "name": "stdout",
     "output_type": "stream",
     "text": [
      "Finetuned Metamers\n",
      " [[ 0.123  0.075  0.065  0.06 ]\n",
      " [ 0.123  0.075  0.066  0.06 ]]\n",
      "LED Weights\n",
      " [[ 0.056  0.166  0.903  0.9  ]\n",
      " [ 0.169  0.134  0.758  0.997]]\n"
     ]
    },
    {
     "name": "stderr",
     "output_type": "stream",
     "text": [
      "\n"
     ]
    },
    {
     "name": "stdout",
     "output_type": "stream",
     "text": [
      "Weights per Pair of Metamers\n",
      "[[[  0 172   0 228 249 233]\n",
      "  [  0 185   0 225 233 244]]\n",
      "\n",
      " [[  0 235   0 198 221 242]\n",
      "  [  0 247   0 195 207 252]]\n",
      "\n",
      " [[  0 155   0 110 238 244]\n",
      "  [  0 167   0 107 224 254]]\n",
      "\n",
      " [[  0  14   0  42 230 229]\n",
      "  [  0  43   0  34 193 254]]]\n",
      "[64 67 35 87 68 89 85 64 85 27 68 35]\n"
     ]
    }
   ],
   "source": [
    "st = ScreeningTest(\"neitz_common_genes\", wavelengths, MandLPeaks, noise_range=[0, 0.05, 0.1], hypercube_sample=0.02)\n",
    "st.create_observers_vs_noise()\n",
    "\n",
    "print(\"Weights per Pair of Metamers\")\n",
    "print((np.array(st.metamers_per_observer)* 255).astype(np.uint8))\n",
    "\n",
    "print(st.plate_numbers)"
   ]
  },
  {
   "cell_type": "code",
   "execution_count": null,
   "metadata": {},
   "outputs": [],
   "source": [
    "st = ScreeningTest(\"govardovskii_common_genes\", wavelengths, MandLPeaks, noise_range=[0, 0.05, 0.1], hypercube_sample=0.02, template='govardovskii')\n",
    "st.create_observers_vs_noise()\n",
    "print(st.metamers_per_observer)\n",
    "print(st.plate_numbers)"
   ]
  },
  {
   "cell_type": "code",
   "execution_count": null,
   "metadata": {},
   "outputs": [],
   "source": [
    "st = ScreeningTest(\"stockman_vs_neitz_vs_govardovskii\", wavelengths, observers=observers, noise_range=[0, 0.05, 0.1], hypercube_sample=0.02)\n",
    "st.create_observers_vs_noise()\n",
    "\n",
    "print(st.metamers_per_observer)\n",
    "print(st.plate_numbers)"
   ]
  },
  {
   "cell_type": "code",
   "execution_count": 7,
   "metadata": {},
   "outputs": [
    {
     "name": "stdout",
     "output_type": "stream",
     "text": [
      "Generating hypercube\n",
      "Done generating hypercube\n"
     ]
    },
    {
     "name": "stderr",
     "output_type": "stream",
     "text": [
      " 25%|██▌       | 1/4 [00:08<00:26,  8.77s/it]"
     ]
    },
    {
     "name": "stdout",
     "output_type": "stream",
     "text": [
      "Finetuned Metamers\n",
      " [[ 0.139  0.199  0.19   0.18 ]\n",
      " [ 0.139  0.199  0.19   0.18 ]]\n",
      "LED Weights\n",
      " [[ 0.887  0.706  0.985  0.993]\n",
      " [ 0.876  0.714  0.993  0.989]]\n"
     ]
    },
    {
     "name": "stderr",
     "output_type": "stream",
     "text": [
      " 50%|█████     | 2/4 [00:17<00:17,  8.87s/it]"
     ]
    },
    {
     "name": "stdout",
     "output_type": "stream",
     "text": [
      "Finetuned Metamers\n",
      " [[ 0.107  0.097  0.076  0.067]\n",
      " [ 0.107  0.097  0.076  0.067]]\n",
      "LED Weights\n",
      " [[ 0.341  0.     0.962  0.648]\n",
      " [ 0.341 -0.     0.966  0.644]]\n"
     ]
    },
    {
     "name": "stderr",
     "output_type": "stream",
     "text": [
      " 75%|███████▌  | 3/4 [00:26<00:08,  9.00s/it]"
     ]
    },
    {
     "name": "stdout",
     "output_type": "stream",
     "text": [
      "Finetuned Metamers\n",
      " [[ 0.103  0.074  0.071  0.067]\n",
      " [ 0.103  0.074  0.071  0.067]]\n",
      "LED Weights\n",
      " [[ 0.283  0.259  0.413  0.989]\n",
      " [ 0.283  0.259  0.417  0.985]]\n"
     ]
    },
    {
     "name": "stderr",
     "output_type": "stream",
     "text": [
      "100%|██████████| 4/4 [00:35<00:00,  8.98s/it]"
     ]
    },
    {
     "name": "stdout",
     "output_type": "stream",
     "text": [
      "Finetuned Metamers\n",
      " [[ 0.096  0.078  0.079  0.079]\n",
      " [ 0.096  0.078  0.08   0.079]]\n",
      "LED Weights\n",
      " [[ 0.299  0.398  0.291  0.985]\n",
      " [ 0.311  0.398  0.271  0.993]]\n"
     ]
    },
    {
     "name": "stderr",
     "output_type": "stream",
     "text": [
      "\n"
     ]
    },
    {
     "name": "stdout",
     "output_type": "stream",
     "text": [
      "Weights per Pair of Metamers\n",
      "[[[  0 226   0 180 251 253]\n",
      "  [  0 223   0 182 253 252]]\n",
      "\n",
      " [[  0  87   0   0 245 165]\n",
      "  [  0  87   0   0 246 164]]\n",
      "\n",
      " [[  0  72   0  65 105 252]\n",
      "  [  0  72   0  65 106 251]]\n",
      "\n",
      " [[  0  76   0 101  74 251]\n",
      "  [  0  79   0 101  69 253]]]\n",
      "[27 68 35 64 89 96 87 39 96 39 72 85]\n"
     ]
    }
   ],
   "source": [
    "st = ScreeningTest(\"neitz_common_genes_rdmclr\", wavelengths, MandLPeaks, noise_range=[0, 0.05, 0.1], hypercube_sample=0.02, randomIndex=True)\n",
    "st.create_observers_vs_noise()\n",
    "print(\"Weights per Pair of Metamers\")\n",
    "print((np.array(st.metamers_per_observer)* 255).astype(np.uint8))\n",
    "\n",
    "print(st.plate_numbers)"
   ]
  },
  {
   "cell_type": "code",
   "execution_count": null,
   "metadata": {},
   "outputs": [],
   "source": [
    "(np.array([[ 0.9 ,  0.  ,  0.  ,  0.04,  0.7 ,  0.12],\n",
    "       [ 0.2 ,  0.  ,  0.  ,  0.28,  0.18,  0.24]]) * 255).astype(int)"
   ]
  },
  {
   "cell_type": "code",
   "execution_count": null,
   "metadata": {},
   "outputs": [],
   "source": [
    "A = (np.array([[ 0.96,  0.  ,  0.  ,  0.78,  0.58,  0.6 ],\n",
    "       [ 0.38,  0.  ,  0.  ,  0.98,  0.18,  0.68]]) * 255).astype(np.uint8)\n",
    "B = (np.array([[ 0.98,  0.  ,  0.  ,  0.6 ,  0.74,  0.94],\n",
    "       [ 0.44,  0.  ,  0.  ,  0.76,  0.44,  1.  ]]) * 255).astype(np.uint8)\n",
    "C = (np.array([[ 0.96,  0.  ,  0.  ,  0.6 ,  0.88,  0.12],\n",
    "       [ 0.04,  0.  ,  0.  ,  0.92,  0.12,  0.28]]) * 255).astype(np.uint8)\n",
    "D = (np.array([[ 0.68,  0.  ,  0.  ,  0.36,  1.  ,  0.82],\n",
    "       [ 0.3 ,  0.  ,  0.  ,  0.48,  0.74,  0.88]]) * 255).astype(np.uint8)\n",
    "\n",
    "A, B , C, D"
   ]
  },
  {
   "cell_type": "code",
   "execution_count": 8,
   "metadata": {},
   "outputs": [],
   "source": [
    "from PIL import Image\n",
    "\n",
    "# Open an image file\n",
    "image_path = './neitz_common_genes_rdmclr/neitz_common_genes_rdmclr-ocv.png'\n",
    "image = Image.open(image_path)\n",
    "A = np.asarray(image)\n",
    "A"
   ]
  },
  {
   "cell_type": "code",
   "execution_count": null,
   "metadata": {},
   "outputs": [],
   "source": [
    "st = ScreeningTest(\"govardovskii_common_genes_rdmclr\", wavelengths, MandLPeaks, noise_range=[0, 0.05, 0.1], hypercube_sample=0.02, template='govardovskii', randomIndex=True)\n",
    "st.create_observers_vs_noise()\n",
    "print(st.metamers_per_observer)\n",
    "print(st.plate_numbers)"
   ]
  },
  {
   "cell_type": "code",
   "execution_count": null,
   "metadata": {},
   "outputs": [],
   "source": [
    "st = ScreeningTest(\"stockman_vs_neitz_vs_govardovskii_rdmclr\", wavelengths, observers=observers, noise_range=[0, 0.05, 0.1], hypercube_sample=0.02, randomIndex=True)\n",
    "st.create_observers_vs_noise()\n",
    "\n",
    "print(st.metamers_per_observer)\n",
    "print(st.plate_numbers)"
   ]
  }
 ],
 "metadata": {
  "kernelspec": {
   "display_name": "chromalab",
   "language": "python",
   "name": "python3"
  },
  "language_info": {
   "codemirror_mode": {
    "name": "ipython",
    "version": 3
   },
   "file_extension": ".py",
   "mimetype": "text/x-python",
   "name": "python",
   "nbconvert_exporter": "python",
   "pygments_lexer": "ipython3",
   "version": "3.11.9"
  }
 },
 "nbformat": 4,
 "nbformat_minor": 2
}
