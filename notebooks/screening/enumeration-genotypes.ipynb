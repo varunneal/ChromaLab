{
 "cells": [
  {
   "cell_type": "code",
   "execution_count": 1,
   "metadata": {},
   "outputs": [],
   "source": [
    "import numpy as np\n",
    "\n",
    "# Enable pretty printing\n",
    "np.set_printoptions(precision=3, suppress=True)"
   ]
  },
  {
   "cell_type": "code",
   "execution_count": 2,
   "metadata": {},
   "outputs": [],
   "source": [
    "from chromalab.screening import ScreeningTest\n",
    "from chromalab.observer import Observer, Cone, getSampledHyperCube"
   ]
  },
  {
   "cell_type": "code",
   "execution_count": 3,
   "metadata": {},
   "outputs": [],
   "source": [
    "%load_ext autoreload\n",
    "%autoreload 2\n",
    "%matplotlib ipympl"
   ]
  },
  {
   "cell_type": "code",
   "execution_count": 4,
   "metadata": {},
   "outputs": [],
   "source": [
    "wavelengths = np.arange(400, 700, 1)\n",
    "MandLPeaks = np.array([(530, 559), (530, 555), (533, 559), (533, 555)])\n",
    "observers = [Observer.tetrachromat(wavelengths), Observer.neitz_tetrachromat(wavelengths), Observer.govardovskii_tetrachromat(wavelengths)]"
   ]
  },
  {
   "cell_type": "code",
   "execution_count": 5,
   "metadata": {},
   "outputs": [],
   "source": [
    "all_steps = np.arange(0, 256)/255"
   ]
  },
  {
   "cell_type": "code",
   "execution_count": 6,
   "metadata": {},
   "outputs": [
    {
     "name": "stdout",
     "output_type": "stream",
     "text": [
      "Generating hypercube\n",
      "Done generating hypercube\n"
     ]
    },
    {
     "name": "stderr",
     "output_type": "stream",
     "text": [
      " 25%|██▌       | 1/4 [00:11<00:33, 11.06s/it]"
     ]
    },
    {
     "name": "stdout",
     "output_type": "stream",
     "text": [
      "[[ 0.434  0.23   0.27   0.32 ]\n",
      " [ 0.431  0.234  0.295  0.325]]\n"
     ]
    },
    {
     "name": "stderr",
     "output_type": "stream",
     "text": [
      " 50%|█████     | 2/4 [00:21<00:21, 10.72s/it]"
     ]
    },
    {
     "name": "stdout",
     "output_type": "stream",
     "text": [
      "[[ 0.443  0.341  0.429  0.476]\n",
      " [ 0.441  0.345  0.445  0.479]]\n"
     ]
    },
    {
     "name": "stderr",
     "output_type": "stream",
     "text": [
      " 75%|███████▌  | 3/4 [00:32<00:10, 10.67s/it]"
     ]
    },
    {
     "name": "stdout",
     "output_type": "stream",
     "text": [
      "[[ 0.427  0.346  0.415  0.48 ]\n",
      " [ 0.428  0.349  0.435  0.484]]\n"
     ]
    },
    {
     "name": "stderr",
     "output_type": "stream",
     "text": [
      "100%|██████████| 4/4 [00:42<00:00, 10.64s/it]"
     ]
    },
    {
     "name": "stdout",
     "output_type": "stream",
     "text": [
      "[[ 0.433  0.34   0.41   0.455]\n",
      " [ 0.433  0.344  0.425  0.46 ]]\n"
     ]
    },
    {
     "name": "stderr",
     "output_type": "stream",
     "text": [
      "\n"
     ]
    },
    {
     "name": "stdout",
     "output_type": "stream",
     "text": [
      "[array([[ 0.96,  0.  ,  0.  ,  0.32,  1.  ,  0.86],\n",
      "       [ 0.08,  0.  ,  0.  ,  0.62,  0.42,  1.  ]]), array([[ 0.96,  0.  ,  0.  ,  0.72,  1.  ,  0.88],\n",
      "       [ 0.06,  0.  ,  0.  ,  0.98,  0.52,  1.  ]]), array([[ 0.86,  0.  ,  0.  ,  0.7 ,  1.  ,  0.84],\n",
      "       [ 0.08,  0.  ,  0.  ,  0.98,  0.38,  1.  ]]), array([[ 0.94,  0.  ,  0.  ,  0.68,  0.98,  0.86],\n",
      "       [ 0.1 ,  0.  ,  0.  ,  0.94,  0.44,  1.  ]])]\n",
      "[64 67 35 87 68 89 85 64 85 27 68 35]\n"
     ]
    }
   ],
   "source": [
    "st = ScreeningTest(\"neitz_common_genes\", wavelengths, MandLPeaks, noise_range=[0, 0.05, 0.1], hypercube_sample=0.02)\n",
    "st.create_observers_vs_noise()\n",
    "print(st.metamers_per_observer)\n",
    "print(st.plate_numbers)"
   ]
  },
  {
   "cell_type": "code",
   "execution_count": 7,
   "metadata": {},
   "outputs": [
    {
     "name": "stdout",
     "output_type": "stream",
     "text": [
      "Generating hypercube\n",
      "Done generating hypercube\n"
     ]
    },
    {
     "name": "stderr",
     "output_type": "stream",
     "text": [
      " 25%|██▌       | 1/4 [00:10<00:32, 10.72s/it]"
     ]
    },
    {
     "name": "stdout",
     "output_type": "stream",
     "text": [
      "[[ 0.4    0.151  0.16   0.2  ]\n",
      " [ 0.405  0.155  0.19   0.205]]\n"
     ]
    }
   ],
   "source": [
    "st = ScreeningTest(\"govardovskii_common_genes\", wavelengths, MandLPeaks, noise_range=[0, 0.05, 0.1], hypercube_sample=0.02, template='govardovskii')\n",
    "st.create_observers_vs_noise()\n",
    "print(st.metamers_per_observer)\n",
    "print(st.plate_numbers)"
   ]
  },
  {
   "cell_type": "code",
   "execution_count": null,
   "metadata": {},
   "outputs": [],
   "source": [
    "st = ScreeningTest(\"stockman_vs_neitz_vs_govardovskii\", wavelengths, observers=observers, noise_range=[0, 0.05, 0.1], hypercube_sample=0.02)\n",
    "st.create_observers_vs_noise()\n",
    "\n",
    "print(st.metamers_per_observer)\n",
    "print(st.plate_numbers)"
   ]
  },
  {
   "cell_type": "code",
   "execution_count": null,
   "metadata": {},
   "outputs": [],
   "source": [
    "st = ScreeningTest(\"neitz_common_genes_rdmclr\", wavelengths, MandLPeaks, noise_range=[0, 0.05, 0.1], hypercube_sample=0.02, randomIndex=True)\n",
    "st.create_observers_vs_noise()\n",
    "print(st.metamers_per_observer)\n",
    "print(st.plate_numbers)"
   ]
  },
  {
   "cell_type": "code",
   "execution_count": null,
   "metadata": {},
   "outputs": [],
   "source": [
    "(np.array([[ 0.9 ,  0.  ,  0.  ,  0.04,  0.7 ,  0.12],\n",
    "       [ 0.2 ,  0.  ,  0.  ,  0.28,  0.18,  0.24]]) * 255).astype(int)"
   ]
  },
  {
   "cell_type": "code",
   "execution_count": null,
   "metadata": {},
   "outputs": [],
   "source": [
    "A = (np.array([[ 0.96,  0.  ,  0.  ,  0.78,  0.58,  0.6 ],\n",
    "       [ 0.38,  0.  ,  0.  ,  0.98,  0.18,  0.68]]) * 255).astype(np.uint8)\n",
    "B = (np.array([[ 0.98,  0.  ,  0.  ,  0.6 ,  0.74,  0.94],\n",
    "       [ 0.44,  0.  ,  0.  ,  0.76,  0.44,  1.  ]]) * 255).astype(np.uint8)\n",
    "C = (np.array([[ 0.96,  0.  ,  0.  ,  0.6 ,  0.88,  0.12],\n",
    "       [ 0.04,  0.  ,  0.  ,  0.92,  0.12,  0.28]]) * 255).astype(np.uint8)\n",
    "D = (np.array([[ 0.68,  0.  ,  0.  ,  0.36,  1.  ,  0.82],\n",
    "       [ 0.3 ,  0.  ,  0.  ,  0.48,  0.74,  0.88]]) * 255).astype(np.uint8)\n",
    "\n",
    "A, B , C, D"
   ]
  },
  {
   "cell_type": "code",
   "execution_count": 8,
   "metadata": {},
   "outputs": [],
   "source": [
    "from PIL import Image\n",
    "\n",
    "# Open an image file\n",
    "image_path = './neitz_common_genes_rdmclr/neitz_common_genes_rdmclr-ocv.png'\n",
    "image = Image.open(image_path)\n",
    "A = np.asarray(image)\n",
    "A"
   ]
  },
  {
   "cell_type": "code",
   "execution_count": null,
   "metadata": {},
   "outputs": [],
   "source": [
    "st = ScreeningTest(\"govardovskii_common_genes_rdmclr\", wavelengths, MandLPeaks, noise_range=[0, 0.05, 0.1], hypercube_sample=0.02, template='govardovskii', randomIndex=True)\n",
    "st.create_observers_vs_noise()\n",
    "print(st.metamers_per_observer)\n",
    "print(st.plate_numbers)"
   ]
  },
  {
   "cell_type": "code",
   "execution_count": null,
   "metadata": {},
   "outputs": [],
   "source": [
    "st = ScreeningTest(\"stockman_vs_neitz_vs_govardovskii_rdmclr\", wavelengths, observers=observers, noise_range=[0, 0.05, 0.1], hypercube_sample=0.02, randomIndex=True)\n",
    "st.create_observers_vs_noise()\n",
    "\n",
    "print(st.metamers_per_observer)\n",
    "print(st.plate_numbers)"
   ]
  }
 ],
 "metadata": {
  "kernelspec": {
   "display_name": "chromalab",
   "language": "python",
   "name": "python3"
  },
  "language_info": {
   "codemirror_mode": {
    "name": "ipython",
    "version": 3
   },
   "file_extension": ".py",
   "mimetype": "text/x-python",
   "name": "python",
   "nbconvert_exporter": "python",
   "pygments_lexer": "ipython3",
   "version": "3.11.9"
  }
 },
 "nbformat": 4,
 "nbformat_minor": 2
}
