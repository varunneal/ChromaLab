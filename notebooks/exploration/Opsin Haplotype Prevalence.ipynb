{
 "cells": [
  {
   "cell_type": "code",
   "execution_count": 1,
   "id": "d281a207",
   "metadata": {},
   "outputs": [],
   "source": [
    "import numpy as np"
   ]
  },
  {
   "cell_type": "code",
   "execution_count": 205,
   "id": "6270e6e1",
   "metadata": {},
   "outputs": [],
   "source": [
    "from collections import Counter"
   ]
  },
  {
   "cell_type": "markdown",
   "id": "589ada4d",
   "metadata": {},
   "source": [
    "Davidoff (2015) is \"Cone opsin gene variants in color blindness and other vision disorders\".\n",
    "\n",
    "Stockman (1998) is \"Red, Green, and Red-Green Hybrid Pigments in the Human Retina\".\n",
    "\n",
    "I didn't end up using the data from the Stockman paper because there are less than 50 samples. Even though the Davidoff paper is only for male trichromats, it has examples of nearly every combination of SNP, and is more comprehensive than any other available dataset."
   ]
  },
  {
   "cell_type": "code",
   "execution_count": null,
   "id": "71cec556",
   "metadata": {},
   "outputs": [],
   "source": []
  },
  {
   "cell_type": "code",
   "execution_count": null,
   "id": "d7981cb5",
   "metadata": {},
   "outputs": [],
   "source": [
    "\n",
    "\n",
    "JOINT_STATS = {\n",
    "    'M_opsin': {\n",
    "        'trichromat': {\n",
    "            'data': {\n",
    "                (True, True): 0,\n",
    "                (False, True): 2,\n",
    "                (True, False): 60,\n",
    "                (False, False): 872         \n",
    "            },\n",
    "            'source': 'Davidoff 2015'\n",
    "        },\n",
    "        'dichromat': {\n",
    "            'data': {\n",
    "                (True, True): 1,\n",
    "                (True, False): 5,\n",
    "                (False, True): 1,\n",
    "                (False, False): 6\n",
    "            },\n",
    "            'source': 'Stockman 1998'\n",
    "        }\n",
    "    },\n",
    "    'L_opsin': {\n",
    "        'trichromat': {\n",
    "            'data': {\n",
    "                (True, True, True): 1,\n",
    "                (False, True, True): 8,\n",
    "                (True, False, True): 0,\n",
    "                (True, True, False): 3,\n",
    "                (False, False, True,): 15,\n",
    "                (False, True, False,): 308,\n",
    "                (True, False, False): 13,\n",
    "                (False, False, False): 674\n",
    "            },\n",
    "            'source': 'Davidoff 2015'\n",
    "        },\n",
    "        'dichromat': {\n",
    "            'data': {\n",
    "                (True, True, True): 0,\n",
    "                (False, True, True): 0,\n",
    "                (True, False, True): 0,\n",
    "                (True, True, False): 1,\n",
    "                (False, False, True): 0,\n",
    "                (False, True, False): 6,\n",
    "                (True, False, False): 1,\n",
    "                (False, False, False): 20\n",
    "            },\n",
    "            'source': 'Stockman 1998'\n",
    "        }\n",
    "    },\n",
    "\n",
    "}"
   ]
  },
  {
   "cell_type": "code",
   "execution_count": null,
   "id": "3249365c",
   "metadata": {},
   "outputs": [],
   "source": [
    "def build_joint_pdf(measurements, alpha=0.5):\n",
    "    pdf = {}\n",
    "    total = 0\n",
    "    for combo, count in measurements.items():\n",
    "        pdf[combo] = count + alpha\n",
    "        total += count + alpha\n",
    "    for combo in pdf:\n",
    "        pdf[combo] /= total\n",
    "    return pdf"
   ]
  },
  {
   "cell_type": "code",
   "execution_count": 134,
   "id": "98977781",
   "metadata": {
    "scrolled": true
   },
   "outputs": [
    {
     "data": {
      "text/plain": [
       "{(True, True, True): 0.0014619883040935672,\n",
       " (False, True, True): 0.008284600389863547,\n",
       " (True, False, True): 0.0004873294346978557,\n",
       " (True, True, False): 0.00341130604288499,\n",
       " (False, False, True): 0.015107212475633527,\n",
       " (False, True, False): 0.300682261208577,\n",
       " (True, False, False): 0.013157894736842105,\n",
       " (False, False, False): 0.6574074074074074}"
      ]
     },
     "execution_count": 134,
     "metadata": {},
     "output_type": "execute_result"
    }
   ],
   "source": [
    "l_joint_pdf = build_joint_pdf(JOINT_STATS['L_opsin']['trichromat']['data'])\n",
    "l_joint_pdf"
   ]
  },
  {
   "cell_type": "code",
   "execution_count": 155,
   "id": "90eab2dc",
   "metadata": {},
   "outputs": [
    {
     "data": {
      "text/plain": [
       "{(True, True): 0.0005341880341880342,\n",
       " (False, True): 0.002670940170940171,\n",
       " (True, False): 0.06463675213675214,\n",
       " (False, False): 0.9321581196581197}"
      ]
     },
     "execution_count": 155,
     "metadata": {},
     "output_type": "execute_result"
    }
   ],
   "source": [
    "m_joint_pdf = build_joint_pdf(JOINT_STATS['M_opsin']['trichromat']['data'])\n",
    "m_joint_pdf"
   ]
  },
  {
   "cell_type": "code",
   "execution_count": 159,
   "id": "e8c5217c",
   "metadata": {},
   "outputs": [],
   "source": [
    "def sample(joint_pdf):\n",
    "    r = random.random()\n",
    "    cumulative = 0.0\n",
    "    for combo, prob in joint_pdf.items():\n",
    "        cumulative += prob\n",
    "        if r < cumulative:\n",
    "            return combo\n",
    "    return combo"
   ]
  },
  {
   "cell_type": "code",
   "execution_count": 160,
   "id": "965e211a",
   "metadata": {},
   "outputs": [
    {
     "data": {
      "text/plain": [
       "(False, False, False)"
      ]
     },
     "execution_count": 160,
     "metadata": {},
     "output_type": "execute_result"
    }
   ],
   "source": [
    "sample(l_joint_pdf)"
   ]
  },
  {
   "cell_type": "code",
   "execution_count": 166,
   "id": "9404b8ef",
   "metadata": {},
   "outputs": [],
   "source": [
    "PEAKS = {\n",
    "    # m peaks\n",
    "    (True, True): 536,\n",
    "    (True, False): 533,\n",
    "    (False, True): 533,\n",
    "    (False, False): 530,\n",
    "\n",
    "    # l peaks\n",
    "    (True, True, True): 547,\n",
    "    (True, True, False): 552,\n",
    "    (True, False, True): 553,\n",
    "    (True, False, False): 556.5,\n",
    "    (False, True, True): 551,\n",
    "    (False, True, False): 555,\n",
    "    (False, False, True): 556,\n",
    "    (False, False, False): 559\n",
    "}"
   ]
  },
  {
   "cell_type": "code",
   "execution_count": 175,
   "id": "00c5760c",
   "metadata": {},
   "outputs": [],
   "source": [
    "def sample_peaks(case):\n",
    "    snps = []\n",
    "    if case == \"ML\":\n",
    "        snps = [m_joint_pdf, l_joint_pdf]\n",
    "        \n",
    "    elif case == \"M\":\n",
    "        snps = [m_joint_pdf]\n",
    "\n",
    "    elif case == \"MM\":\n",
    "        snps = [m_joint_pdf, m_joint_pdf]\n",
    "\n",
    "    elif case == \"L\":\n",
    "        snps = [l_joint_pdf]\n",
    "    \n",
    "    elif case == \"LL\":\n",
    "        snps = [l_joint_pdf, l_joint_pdf]\n",
    "    \n",
    "    return [PEAKS[sample(snp)] for snp in snps]"
   ]
  },
  {
   "cell_type": "code",
   "execution_count": 183,
   "id": "01751eb6",
   "metadata": {},
   "outputs": [],
   "source": [
    "def get_random_x(n):\n",
    "    genotypes = [\"ML\",\n",
    "                 \"M\", \"MM\",\n",
    "                 \"L\", \"LL\"]\n",
    "    weights = [92,\n",
    "               0.21, 1.89,\n",
    "               0.86, 5.04]\n",
    "    genotype = random.choices(genotypes, weights, k=n)\n",
    "    return [sample_peaks(g) for g in genotype]"
   ]
  },
  {
   "cell_type": "code",
   "execution_count": 163,
   "id": "09b5f562",
   "metadata": {},
   "outputs": [],
   "source": [
    "def simulate_males(n):\n",
    "    return get_random_x(n)\n",
    "\n",
    "def simulate_females(n):\n",
    "    return [x1 + x2 for x1, x2 in zip(get_random_x(n), get_random_x(n))]"
   ]
  },
  {
   "cell_type": "code",
   "execution_count": 164,
   "id": "8a9a2ace",
   "metadata": {},
   "outputs": [],
   "source": [
    "def functional_genotype(peaks):\n",
    "    return tuple(sorted(set(peaks)))"
   ]
  },
  {
   "cell_type": "code",
   "execution_count": null,
   "id": "5278a819",
   "metadata": {},
   "outputs": [],
   "source": []
  },
  {
   "cell_type": "code",
   "execution_count": 206,
   "id": "0b8b652a",
   "metadata": {},
   "outputs": [],
   "source": [
    "N = 100000\n",
    "male_simulations = Counter([\n",
    "        functional_genotype(peaks) for peaks in simulate_males(N)\n",
    "    ])\n",
    "female_simulations = Counter([\n",
    "        functional_genotype(peaks) for peaks in simulate_females(N)\n",
    "    ])"
   ]
  },
  {
   "cell_type": "code",
   "execution_count": 217,
   "id": "95496a46",
   "metadata": {},
   "outputs": [],
   "source": [
    "import pandas as pd"
   ]
  },
  {
   "cell_type": "code",
   "execution_count": 226,
   "id": "107bf74d",
   "metadata": {},
   "outputs": [],
   "source": [
    "def results_to_pandas(simulations):\n",
    "    results = pd.DataFrame(\n",
    "        [(peaks, count, len(peaks)) for peaks, count in simulations.most_common()],\n",
    "        columns=['Peaks', 'Count', 'Dimension']\n",
    "    )\n",
    "\n",
    "    results['Percentage'] = 100 * results['Count'] / N\n",
    "\n",
    "    results['Peaks'] = results['Peaks'].apply(lambda x: ', '.join(map(str, x)))\n",
    "    results['Percentage'] = results['Percentage'].round(4)\n",
    "    \n",
    "    return results"
   ]
  },
  {
   "cell_type": "code",
   "execution_count": 236,
   "id": "01324947",
   "metadata": {},
   "outputs": [
    {
     "data": {
      "text/html": [
       "<div>\n",
       "<style scoped>\n",
       "    .dataframe tbody tr th:only-of-type {\n",
       "        vertical-align: middle;\n",
       "    }\n",
       "\n",
       "    .dataframe tbody tr th {\n",
       "        vertical-align: top;\n",
       "    }\n",
       "\n",
       "    .dataframe thead th {\n",
       "        text-align: right;\n",
       "    }\n",
       "</style>\n",
       "<table border=\"1\" class=\"dataframe\">\n",
       "  <thead>\n",
       "    <tr style=\"text-align: right;\">\n",
       "      <th></th>\n",
       "      <th>Peaks</th>\n",
       "      <th>Count</th>\n",
       "      <th>Dimension</th>\n",
       "      <th>Percentage</th>\n",
       "    </tr>\n",
       "  </thead>\n",
       "  <tbody>\n",
       "    <tr>\n",
       "      <th>0</th>\n",
       "      <td>530, 559</td>\n",
       "      <td>56529</td>\n",
       "      <td>2</td>\n",
       "      <td>56.529</td>\n",
       "    </tr>\n",
       "    <tr>\n",
       "      <th>1</th>\n",
       "      <td>530, 555</td>\n",
       "      <td>25783</td>\n",
       "      <td>2</td>\n",
       "      <td>25.783</td>\n",
       "    </tr>\n",
       "    <tr>\n",
       "      <th>2</th>\n",
       "      <td>533, 559</td>\n",
       "      <td>4032</td>\n",
       "      <td>2</td>\n",
       "      <td>4.032</td>\n",
       "    </tr>\n",
       "    <tr>\n",
       "      <th>3</th>\n",
       "      <td>559</td>\n",
       "      <td>2654</td>\n",
       "      <td>1</td>\n",
       "      <td>2.654</td>\n",
       "    </tr>\n",
       "    <tr>\n",
       "      <th>4</th>\n",
       "      <td>555, 559</td>\n",
       "      <td>1945</td>\n",
       "      <td>2</td>\n",
       "      <td>1.945</td>\n",
       "    </tr>\n",
       "  </tbody>\n",
       "</table>\n",
       "</div>"
      ],
      "text/plain": [
       "      Peaks  Count  Dimension  Percentage\n",
       "0  530, 559  56529          2      56.529\n",
       "1  530, 555  25783          2      25.783\n",
       "2  533, 559   4032          2       4.032\n",
       "3       559   2654          1       2.654\n",
       "4  555, 559   1945          2       1.945"
      ]
     },
     "execution_count": 236,
     "metadata": {},
     "output_type": "execute_result"
    }
   ],
   "source": [
    "male_table = results_to_pandas(male_simulations)\n",
    "# this command copies the pandas table to your clipboard\n",
    "male_table.to_clipboard(index=False)\n",
    "male_table.head()"
   ]
  },
  {
   "cell_type": "code",
   "execution_count": 235,
   "id": "80304484",
   "metadata": {},
   "outputs": [
    {
     "data": {
      "text/html": [
       "<div>\n",
       "<style scoped>\n",
       "    .dataframe tbody tr th:only-of-type {\n",
       "        vertical-align: middle;\n",
       "    }\n",
       "\n",
       "    .dataframe tbody tr th {\n",
       "        vertical-align: top;\n",
       "    }\n",
       "\n",
       "    .dataframe thead th {\n",
       "        text-align: right;\n",
       "    }\n",
       "</style>\n",
       "<table border=\"1\" class=\"dataframe\">\n",
       "  <thead>\n",
       "    <tr style=\"text-align: right;\">\n",
       "      <th></th>\n",
       "      <th>Peaks</th>\n",
       "      <th>Count</th>\n",
       "      <th>Dimension</th>\n",
       "      <th>Percentage</th>\n",
       "    </tr>\n",
       "  </thead>\n",
       "  <tbody>\n",
       "    <tr>\n",
       "      <th>0</th>\n",
       "      <td>530, 559</td>\n",
       "      <td>37123</td>\n",
       "      <td>2</td>\n",
       "      <td>37.123</td>\n",
       "    </tr>\n",
       "    <tr>\n",
       "      <th>1</th>\n",
       "      <td>530, 555, 559</td>\n",
       "      <td>34689</td>\n",
       "      <td>3</td>\n",
       "      <td>34.689</td>\n",
       "    </tr>\n",
       "    <tr>\n",
       "      <th>2</th>\n",
       "      <td>530, 555</td>\n",
       "      <td>8008</td>\n",
       "      <td>2</td>\n",
       "      <td>8.008</td>\n",
       "    </tr>\n",
       "    <tr>\n",
       "      <th>3</th>\n",
       "      <td>530, 533, 559</td>\n",
       "      <td>5004</td>\n",
       "      <td>3</td>\n",
       "      <td>5.004</td>\n",
       "    </tr>\n",
       "    <tr>\n",
       "      <th>4</th>\n",
       "      <td>530, 533, 555, 559</td>\n",
       "      <td>4217</td>\n",
       "      <td>4</td>\n",
       "      <td>4.217</td>\n",
       "    </tr>\n",
       "  </tbody>\n",
       "</table>\n",
       "</div>"
      ],
      "text/plain": [
       "                Peaks  Count  Dimension  Percentage\n",
       "0            530, 559  37123          2      37.123\n",
       "1       530, 555, 559  34689          3      34.689\n",
       "2            530, 555   8008          2       8.008\n",
       "3       530, 533, 559   5004          3       5.004\n",
       "4  530, 533, 555, 559   4217          4       4.217"
      ]
     },
     "execution_count": 235,
     "metadata": {},
     "output_type": "execute_result"
    }
   ],
   "source": [
    "female_table = results_to_pandas(female_simulations)\n",
    "female_table.to_clipboard(index=False)\n",
    "female_table.head()"
   ]
  },
  {
   "cell_type": "code",
   "execution_count": null,
   "id": "0ee8b151",
   "metadata": {},
   "outputs": [],
   "source": []
  }
 ],
 "metadata": {
  "kernelspec": {
   "display_name": "chromalab",
   "language": "python",
   "name": "chromalab"
  },
  "language_info": {
   "codemirror_mode": {
    "name": "ipython",
    "version": 3
   },
   "file_extension": ".py",
   "mimetype": "text/x-python",
   "name": "python",
   "nbconvert_exporter": "python",
   "pygments_lexer": "ipython3",
   "version": "3.9.19"
  },
  "toc": {
   "base_numbering": 1,
   "nav_menu": {},
   "number_sections": true,
   "sideBar": true,
   "skip_h1_title": false,
   "title_cell": "Table of Contents",
   "title_sidebar": "Contents",
   "toc_cell": false,
   "toc_position": {},
   "toc_section_display": true,
   "toc_window_display": false
  }
 },
 "nbformat": 4,
 "nbformat_minor": 5
}
